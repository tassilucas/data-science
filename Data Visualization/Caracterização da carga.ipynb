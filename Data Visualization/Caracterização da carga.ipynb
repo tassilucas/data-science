{
 "cells": [
  {
   "cell_type": "markdown",
   "id": "bc09a4eb",
   "metadata": {},
   "source": [
    "### Obtendo carga"
   ]
  },
  {
   "cell_type": "code",
   "execution_count": 1,
   "id": "1d717a92",
   "metadata": {},
   "outputs": [],
   "source": [
    "import os"
   ]
  },
  {
   "cell_type": "code",
   "execution_count": 2,
   "id": "e2bbdcd9",
   "metadata": {},
   "outputs": [],
   "source": [
    "home_path = os.path.expanduser('~')"
   ]
  },
  {
   "cell_type": "code",
   "execution_count": 3,
   "id": "598754b4",
   "metadata": {},
   "outputs": [],
   "source": [
    "import pandas as pd"
   ]
  },
  {
   "cell_type": "code",
   "execution_count": 4,
   "id": "b2428c70",
   "metadata": {},
   "outputs": [],
   "source": [
    "filenames = []\n",
    "filesizes = []"
   ]
  },
  {
   "cell_type": "code",
   "execution_count": 5,
   "id": "3474b8cf",
   "metadata": {},
   "outputs": [],
   "source": [
    "for path, _, files in os.walk(home_path):\n",
    "    for file in files:\n",
    "        file_path = path + \"/\" + file\n",
    "        \n",
    "        try:\n",
    "            file_size = os.stat(file_path).st_size / 1024\n",
    "            filenames.append(file)\n",
    "            filesizes.append(file_size)\n",
    "        except:\n",
    "            pass"
   ]
  },
  {
   "cell_type": "code",
   "execution_count": 6,
   "id": "3fb9b178",
   "metadata": {},
   "outputs": [],
   "source": [
    "df = pd.DataFrame({'Filename': filenames, 'Size': filesizes})"
   ]
  },
  {
   "cell_type": "code",
   "execution_count": 7,
   "id": "ad24b966",
   "metadata": {},
   "outputs": [
    {
     "data": {
      "text/html": [
       "<div>\n",
       "<style scoped>\n",
       "    .dataframe tbody tr th:only-of-type {\n",
       "        vertical-align: middle;\n",
       "    }\n",
       "\n",
       "    .dataframe tbody tr th {\n",
       "        vertical-align: top;\n",
       "    }\n",
       "\n",
       "    .dataframe thead th {\n",
       "        text-align: right;\n",
       "    }\n",
       "</style>\n",
       "<table border=\"1\" class=\"dataframe\">\n",
       "  <thead>\n",
       "    <tr style=\"text-align: right;\">\n",
       "      <th></th>\n",
       "      <th>Filename</th>\n",
       "      <th>Size</th>\n",
       "    </tr>\n",
       "  </thead>\n",
       "  <tbody>\n",
       "    <tr>\n",
       "      <th>0</th>\n",
       "      <td>20220929_175032.mp4</td>\n",
       "      <td>68963.072266</td>\n",
       "    </tr>\n",
       "    <tr>\n",
       "      <th>1</th>\n",
       "      <td>package.json</td>\n",
       "      <td>0.072266</td>\n",
       "    </tr>\n",
       "    <tr>\n",
       "      <th>2</th>\n",
       "      <td>.lesshst</td>\n",
       "      <td>0.062500</td>\n",
       "    </tr>\n",
       "    <tr>\n",
       "      <th>3</th>\n",
       "      <td>RUDP.zip</td>\n",
       "      <td>739.849609</td>\n",
       "    </tr>\n",
       "    <tr>\n",
       "      <th>4</th>\n",
       "      <td>computable-func.ppt</td>\n",
       "      <td>2677.000000</td>\n",
       "    </tr>\n",
       "    <tr>\n",
       "      <th>5</th>\n",
       "      <td>tofill</td>\n",
       "      <td>0.076172</td>\n",
       "    </tr>\n",
       "    <tr>\n",
       "      <th>6</th>\n",
       "      <td>Lucas Tassi Facciolla - Historico Escolar.pdf</td>\n",
       "      <td>17.346680</td>\n",
       "    </tr>\n",
       "    <tr>\n",
       "      <th>7</th>\n",
       "      <td>.Rhistory</td>\n",
       "      <td>16.353516</td>\n",
       "    </tr>\n",
       "    <tr>\n",
       "      <th>8</th>\n",
       "      <td>Dados_Teste_3.csv</td>\n",
       "      <td>1.161133</td>\n",
       "    </tr>\n",
       "    <tr>\n",
       "      <th>9</th>\n",
       "      <td>tictactoe.pl</td>\n",
       "      <td>0.098633</td>\n",
       "    </tr>\n",
       "  </tbody>\n",
       "</table>\n",
       "</div>"
      ],
      "text/plain": [
       "                                        Filename          Size\n",
       "0                            20220929_175032.mp4  68963.072266\n",
       "1                                   package.json      0.072266\n",
       "2                                       .lesshst      0.062500\n",
       "3                                       RUDP.zip    739.849609\n",
       "4                            computable-func.ppt   2677.000000\n",
       "5                                         tofill      0.076172\n",
       "6  Lucas Tassi Facciolla - Historico Escolar.pdf     17.346680\n",
       "7                                      .Rhistory     16.353516\n",
       "8                              Dados_Teste_3.csv      1.161133\n",
       "9                                   tictactoe.pl      0.098633"
      ]
     },
     "execution_count": 7,
     "metadata": {},
     "output_type": "execute_result"
    }
   ],
   "source": [
    "df.head(10)"
   ]
  },
  {
   "cell_type": "markdown",
   "id": "badd8132",
   "metadata": {},
   "source": [
    "### Estatísticas descritivas\n"
   ]
  },
  {
   "cell_type": "code",
   "execution_count": 8,
   "id": "128a0f6b",
   "metadata": {},
   "outputs": [
    {
     "data": {
      "text/html": [
       "<div>\n",
       "<style scoped>\n",
       "    .dataframe tbody tr th:only-of-type {\n",
       "        vertical-align: middle;\n",
       "    }\n",
       "\n",
       "    .dataframe tbody tr th {\n",
       "        vertical-align: top;\n",
       "    }\n",
       "\n",
       "    .dataframe thead th {\n",
       "        text-align: right;\n",
       "    }\n",
       "</style>\n",
       "<table border=\"1\" class=\"dataframe\">\n",
       "  <thead>\n",
       "    <tr style=\"text-align: right;\">\n",
       "      <th></th>\n",
       "      <th>Size</th>\n",
       "    </tr>\n",
       "  </thead>\n",
       "  <tbody>\n",
       "    <tr>\n",
       "      <th>count</th>\n",
       "      <td>493892.00</td>\n",
       "    </tr>\n",
       "    <tr>\n",
       "      <th>mean</th>\n",
       "      <td>177.50</td>\n",
       "    </tr>\n",
       "    <tr>\n",
       "      <th>std</th>\n",
       "      <td>21991.89</td>\n",
       "    </tr>\n",
       "    <tr>\n",
       "      <th>min</th>\n",
       "      <td>0.00</td>\n",
       "    </tr>\n",
       "    <tr>\n",
       "      <th>1%</th>\n",
       "      <td>0.00</td>\n",
       "    </tr>\n",
       "    <tr>\n",
       "      <th>10%</th>\n",
       "      <td>0.21</td>\n",
       "    </tr>\n",
       "    <tr>\n",
       "      <th>50%</th>\n",
       "      <td>3.30</td>\n",
       "    </tr>\n",
       "    <tr>\n",
       "      <th>90%</th>\n",
       "      <td>40.24</td>\n",
       "    </tr>\n",
       "    <tr>\n",
       "      <th>99%</th>\n",
       "      <td>812.36</td>\n",
       "    </tr>\n",
       "    <tr>\n",
       "      <th>max</th>\n",
       "      <td>11875328.00</td>\n",
       "    </tr>\n",
       "  </tbody>\n",
       "</table>\n",
       "</div>"
      ],
      "text/plain": [
       "              Size\n",
       "count    493892.00\n",
       "mean        177.50\n",
       "std       21991.89\n",
       "min           0.00\n",
       "1%            0.00\n",
       "10%           0.21\n",
       "50%           3.30\n",
       "90%          40.24\n",
       "99%         812.36\n",
       "max    11875328.00"
      ]
     },
     "execution_count": 8,
     "metadata": {},
     "output_type": "execute_result"
    }
   ],
   "source": [
    "round(df.describe(percentiles=[0.01, 0.1, 0.9, 0.99]), 2)"
   ]
  },
  {
   "cell_type": "markdown",
   "id": "c6b7ed4c",
   "metadata": {},
   "source": [
    "Variância:"
   ]
  },
  {
   "cell_type": "code",
   "execution_count": 9,
   "id": "b3734f00",
   "metadata": {},
   "outputs": [
    {
     "data": {
      "text/plain": [
       "Size    4.836433e+08\n",
       "dtype: float64"
      ]
     },
     "execution_count": 9,
     "metadata": {},
     "output_type": "execute_result"
    }
   ],
   "source": [
    "df.var(numeric_only=True)"
   ]
  },
  {
   "cell_type": "markdown",
   "id": "37fc1053",
   "metadata": {},
   "source": [
    "Coeficiente de Variabilidade:"
   ]
  },
  {
   "cell_type": "code",
   "execution_count": 10,
   "id": "fcbb3409",
   "metadata": {},
   "outputs": [
    {
     "data": {
      "text/plain": [
       "123.9"
      ]
     },
     "execution_count": 10,
     "metadata": {},
     "output_type": "execute_result"
    }
   ],
   "source": [
    "mean = df['Size'].mean()\n",
    "std = df['Size'].std()\n",
    "cv = std / mean\n",
    "round(cv, 2)"
   ]
  },
  {
   "cell_type": "markdown",
   "id": "29c87f7b",
   "metadata": {},
   "source": [
    "### Gráficos"
   ]
  },
  {
   "cell_type": "code",
   "execution_count": 11,
   "id": "85d83def",
   "metadata": {},
   "outputs": [],
   "source": [
    "import matplotlib.pyplot as plt\n",
    "import seaborn as sns"
   ]
  },
  {
   "cell_type": "code",
   "execution_count": 12,
   "id": "361d7558",
   "metadata": {},
   "outputs": [
    {
     "data": {
      "text/plain": [
       "<AxesSubplot:xlabel='Size', ylabel='Density'>"
      ]
     },
     "execution_count": 12,
     "metadata": {},
     "output_type": "execute_result"
    },
    {
     "data": {
      "image/png": "[encoded data removed]",
      "text/plain": [
       "<Figure size 432x288 with 1 Axes>"
      ]
     },
     "metadata": {
      "needs_background": "light"
     },
     "output_type": "display_data"
    }
   ],
   "source": [
    "sns.kdeplot(df['Size'])"
   ]
  },
  {
   "cell_type": "code",
   "execution_count": 13,
   "id": "6158d6fa",
   "metadata": {},
   "outputs": [],
   "source": [
    "df_outliers = df.query('Size > 0 & Size < 50')"
   ]
  },
  {
   "cell_type": "code",
   "execution_count": 14,
   "id": "56308e34",
   "metadata": {},
   "outputs": [
    {
     "data": {
      "text/plain": [
       "<AxesSubplot:xlabel='Size', ylabel='Density'>"
      ]
     },
     "execution_count": 14,
     "metadata": {},
     "output_type": "execute_result"
    },
    {
     "data": {
      "image/png": "[encoded data removed]",
      "text/plain": [
       "<Figure size 432x288 with 1 Axes>"
      ]
     },
     "metadata": {
      "needs_background": "light"
     },
     "output_type": "display_data"
    }
   ],
   "source": [
    "sns.kdeplot(df_outliers['Size'])"
   ]
  },
  {
   "cell_type": "code",
   "execution_count": 15,
   "id": "e1499bfe",
   "metadata": {},
   "outputs": [
    {
     "data": {
      "text/plain": [
       "<AxesSubplot:xlabel='Size', ylabel='Density'>"
      ]
     },
     "execution_count": 15,
     "metadata": {},
     "output_type": "execute_result"
    },
    {
     "data": {
      "image/png": "[encoded data removed]",
      "text/plain": [
       "<Figure size 432x288 with 1 Axes>"
      ]
     },
     "metadata": {
      "needs_background": "light"
     },
     "output_type": "display_data"
    }
   ],
   "source": [
    "sns.kdeplot(df['Size'], cumulative=True)"
   ]
  },
  {
   "cell_type": "code",
   "execution_count": 16,
   "id": "c31b8565",
   "metadata": {},
   "outputs": [
    {
     "data": {
      "text/plain": [
       "<AxesSubplot:xlabel='Size', ylabel='Density'>"
      ]
     },
     "execution_count": 16,
     "metadata": {},
     "output_type": "execute_result"
    },
    {
     "data": {
      "image/png": "[encoded data removed]",
      "text/plain": [
       "<Figure size 432x288 with 1 Axes>"
      ]
     },
     "metadata": {
      "needs_background": "light"
     },
     "output_type": "display_data"
    }
   ],
   "source": [
    "sns.kdeplot(df_outliers['Size'], cumulative=True)"
   ]
  },
  {
   "cell_type": "code",
   "execution_count": 17,
   "id": "c2b5e0af",
   "metadata": {},
   "outputs": [
    {
     "data": {
      "text/plain": [
       "[<matplotlib.lines.Line2D at 0x7fd1a2bc4af0>]"
      ]
     },
     "execution_count": 17,
     "metadata": {},
     "output_type": "execute_result"
    },
    {
     "data": {
      "image/png": "[encoded data removed]",
      "text/plain": [
       "<Figure size 432x288 with 1 Axes>"
      ]
     },
     "metadata": {
      "needs_background": "light"
     },
     "output_type": "display_data"
    }
   ],
   "source": [
    "plt.plot(df['Size'], len(df['Size']) * [1], \"o\")"
   ]
  },
  {
   "cell_type": "markdown",
   "id": "43e59803",
   "metadata": {},
   "source": [
    "### Conclusões"
   ]
  },
  {
   "cell_type": "markdown",
   "id": "7d32626c",
   "metadata": {},
   "source": [
    "* Estatisticas descritivas\n",
    "\n",
    "    - Média de arquivos relativamente pequena, mas alguns arquivos grandes podem estar puxando pra cima.\n",
    "    - Os percentis sugerem que grande parte (99%) dos arquivos são menores que 1 MB, ou seja, __arquivos grandes são raros de encontrar__.\n",
    "    - A maior carga encontrada foi de 11875328 KB e a menor de 0.00 KB (arquivos vazios).\n",
    "    - Variância, Desvio Padrão e CV altos sugerem alta dispersão do tamanho dos arquivos.\n",
    "    \n",
    "    \n",
    "* Gráficos\n",
    "\n",
    "    - PDF mostra que a maior quantidade de arquivos esta entre 0 e 8 KB, sugerindo __arquivos pequenos serem mais comuns__.\n",
    "    - CDF mostra que 80% dos arquivos são menores que 10 KB, sugerindo também que __arquivos pequenos são mais comuns__."
   ]
  }
 ],
 "metadata": {
  "kernelspec": {
   "display_name": "Python 3 (ipykernel)",
   "language": "python",
   "name": "python3"
  },
  "language_info": {
   "codemirror_mode": {
    "name": "ipython",
    "version": 3
   },
   "file_extension": ".py",
   "mimetype": "text/x-python",
   "name": "python",
   "nbconvert_exporter": "python",
   "pygments_lexer": "ipython3",
   "version": "3.9.7"
  }
 },
 "nbformat": 4,
 "nbformat_minor": 5
}
