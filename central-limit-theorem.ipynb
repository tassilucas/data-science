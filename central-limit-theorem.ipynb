{
 "cells": [
  {
   "cell_type": "code",
   "execution_count": 1,
   "id": "0cd76bfe",
   "metadata": {},
   "outputs": [],
   "source": [
    "import numpy as np"
   ]
  },
  {
   "cell_type": "code",
   "execution_count": 2,
   "id": "bc2f0bb0",
   "metadata": {},
   "outputs": [],
   "source": [
    "def samples_mean(sample_size, sample_number):\n",
    "    samples = [np.random.uniform(1, 20, size=sample_size) for _ in range(sample_number)]\n",
    "    return [sample.mean() for sample in samples]"
   ]
  },
  {
   "cell_type": "code",
   "execution_count": 3,
   "id": "466debdc",
   "metadata": {},
   "outputs": [],
   "source": [
    "import matplotlib.pyplot as plt"
   ]
  },
  {
   "cell_type": "code",
   "execution_count": 4,
   "id": "409c2ed4",
   "metadata": {},
   "outputs": [
    {
     "data": {
      "text/plain": [
       "(array([3., 0., 1., 1., 1., 0., 1., 0., 1., 2.]),\n",
       " array([ 9.76237687,  9.96416776, 10.16595866, 10.36774956, 10.56954046,\n",
       "        10.77133135, 10.97312225, 11.17491315, 11.37670404, 11.57849494,\n",
       "        11.78028584]),\n",
       " <BarContainer object of 10 artists>)"
      ]
     },
     "execution_count": 4,
     "metadata": {},
     "output_type": "execute_result"
    },
    {
     "data": {
      "image/png": "[encoded data removed]",
      "text/plain": [
       "<Figure size 432x288 with 1 Axes>"
      ]
     },
     "metadata": {
      "needs_background": "light"
     },
     "output_type": "display_data"
    }
   ],
   "source": [
    "plt.hist(samples_mean(30, 10))"
   ]
  },
  {
   "cell_type": "code",
   "execution_count": 5,
   "id": "ef40895e",
   "metadata": {},
   "outputs": [
    {
     "data": {
      "text/plain": [
       "(array([ 2.,  2.,  8.,  7., 23., 20., 16., 13.,  7.,  2.]),\n",
       " array([ 8.05862527,  8.53973559,  9.0208459 ,  9.50195621,  9.98306653,\n",
       "        10.46417684, 10.94528716, 11.42639747, 11.90750778, 12.3886181 ,\n",
       "        12.86972841]),\n",
       " <BarContainer object of 10 artists>)"
      ]
     },
     "execution_count": 5,
     "metadata": {},
     "output_type": "execute_result"
    },
    {
     "data": {
      "image/png": "[encoded data removed]",
      "text/plain": [
       "<Figure size 432x288 with 1 Axes>"
      ]
     },
     "metadata": {
      "needs_background": "light"
     },
     "output_type": "display_data"
    }
   ],
   "source": [
    "plt.hist(samples_mean(30, 100))"
   ]
  },
  {
   "cell_type": "code",
   "execution_count": 6,
   "id": "032ef674",
   "metadata": {},
   "outputs": [
    {
     "data": {
      "text/plain": [
       "(array([ 21.,  76., 144., 214., 219., 168., 101.,  46.,   8.,   3.]),\n",
       " array([ 8.0240733 ,  8.60503774,  9.18600218,  9.76696662, 10.34793106,\n",
       "        10.9288955 , 11.50985994, 12.09082438, 12.67178882, 13.25275326,\n",
       "        13.8337177 ]),\n",
       " <BarContainer object of 10 artists>)"
      ]
     },
     "execution_count": 6,
     "metadata": {},
     "output_type": "execute_result"
    },
    {
     "data": {
      "image/png": "[encoded data removed]",
      "text/plain": [
       "<Figure size 432x288 with 1 Axes>"
      ]
     },
     "metadata": {
      "needs_background": "light"
     },
     "output_type": "display_data"
    }
   ],
   "source": [
    "plt.hist(samples_mean(30, 1000))"
   ]
  },
  {
   "cell_type": "code",
   "execution_count": 7,
   "id": "e58d6edd",
   "metadata": {},
   "outputs": [
    {
     "data": {
      "text/plain": [
       "(array([  17.,  119.,  603., 1564., 2567., 2629., 1629.,  714.,  141.,\n",
       "          17.]),\n",
       " array([ 6.89970466,  7.61095615,  8.32220764,  9.03345914,  9.74471063,\n",
       "        10.45596212, 11.16721362, 11.87846511, 12.5897166 , 13.30096809,\n",
       "        14.01221959]),\n",
       " <BarContainer object of 10 artists>)"
      ]
     },
     "execution_count": 7,
     "metadata": {},
     "output_type": "execute_result"
    },
    {
     "data": {
      "image/png": "[encoded data removed]",
      "text/plain": [
       "<Figure size 432x288 with 1 Axes>"
      ]
     },
     "metadata": {
      "needs_background": "light"
     },
     "output_type": "display_data"
    }
   ],
   "source": [
    "plt.hist(samples_mean(30, 10000))"
   ]
  },
  {
   "cell_type": "code",
   "execution_count": 8,
   "id": "26e14bd1",
   "metadata": {},
   "outputs": [],
   "source": [
    "import pandas as pd\n",
    "from sklearn.datasets import load_iris"
   ]
  },
  {
   "cell_type": "code",
   "execution_count": 27,
   "id": "4a314e0d",
   "metadata": {},
   "outputs": [],
   "source": [
    "iris = pd.DataFrame(load_iris(as_frame=True).data)"
   ]
  },
  {
   "cell_type": "code",
   "execution_count": 28,
   "id": "3afd5f97",
   "metadata": {},
   "outputs": [],
   "source": [
    "sepal_iris = iris['sepal length (cm)']"
   ]
  },
  {
   "cell_type": "code",
   "execution_count": 51,
   "id": "f57676ed",
   "metadata": {},
   "outputs": [
    {
     "data": {
      "text/plain": [
       "<AxesSubplot:>"
      ]
     },
     "execution_count": 51,
     "metadata": {},
     "output_type": "execute_result"
    },
    {
     "data": {
      "image/png": "[encoded data removed]",
      "text/plain": [
       "<Figure size 432x288 with 1 Axes>"
      ]
     },
     "metadata": {
      "needs_background": "light"
     },
     "output_type": "display_data"
    }
   ],
   "source": [
    "sepal_iris.hist(grid=False)"
   ]
  },
  {
   "cell_type": "code",
   "execution_count": 48,
   "id": "7aad6f9e",
   "metadata": {},
   "outputs": [],
   "source": [
    "import random\n",
    "\n",
    "sample_size = 4\n",
    "sample_number = 100000\n",
    "\n",
    "sepal_iris_samples = []\n",
    "\n",
    "for i in range(0, sample_number):\n",
    "    l = random.randint(0, sepal_iris.size-sample_size)\n",
    "    sample = sepal_iris[l:l+sample_size]\n",
    "    sepal_iris_samples.append(sample)"
   ]
  },
  {
   "cell_type": "code",
   "execution_count": 49,
   "id": "dd11d75e",
   "metadata": {},
   "outputs": [],
   "source": [
    "sepal_iris_samples_means = []\n",
    "for sepal in sepal_iris_samples:\n",
    "    sepal_iris_samples_means.append(sepal.mean())"
   ]
  },
  {
   "cell_type": "code",
   "execution_count": 50,
   "id": "ff607dea",
   "metadata": {},
   "outputs": [
    {
     "data": {
      "text/plain": [
       "(array([14342., 11714.,  5490., 10842., 10838., 10102.,  9479., 19691.,\n",
       "         2652.,  4850.]),\n",
       " array([4.725, 4.975, 5.225, 5.475, 5.725, 5.975, 6.225, 6.475, 6.725,\n",
       "        6.975, 7.225]),\n",
       " <BarContainer object of 10 artists>)"
      ]
     },
     "execution_count": 50,
     "metadata": {},
     "output_type": "execute_result"
    },
    {
     "data": {
      "image/png": "[encoded data removed]",
      "text/plain": [
       "<Figure size 432x288 with 1 Axes>"
      ]
     },
     "metadata": {
      "needs_background": "light"
     },
     "output_type": "display_data"
    }
   ],
   "source": [
    "plt.hist(sepal_iris_samples_means)"
   ]
  }
 ],
 "metadata": {
  "kernelspec": {
   "display_name": "Python 3 (ipykernel)",
   "language": "python",
   "name": "python3"
  },
  "language_info": {
   "codemirror_mode": {
    "name": "ipython",
    "version": 3
   },
   "file_extension": ".py",
   "mimetype": "text/x-python",
   "name": "python",
   "nbconvert_exporter": "python",
   "pygments_lexer": "ipython3",
   "version": "3.9.7"
  }
 },
 "nbformat": 4,
 "nbformat_minor": 5
}
