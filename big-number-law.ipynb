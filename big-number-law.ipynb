{
 "cells": [
  {
   "cell_type": "code",
   "execution_count": 5,
   "id": "ef5ab382",
   "metadata": {},
   "outputs": [],
   "source": [
    "import numpy as np\n",
    "import matplotlib.pyplot as plt"
   ]
  },
  {
   "cell_type": "markdown",
   "id": "b8f873f6",
   "metadata": {},
   "source": [
    "Simulating a dice behavior:"
   ]
  },
  {
   "cell_type": "code",
   "execution_count": 7,
   "id": "bb36806c",
   "metadata": {},
   "outputs": [],
   "source": [
    "expected_value = sum(np.arange(1, 7)) / 6"
   ]
  },
  {
   "cell_type": "code",
   "execution_count": 29,
   "id": "9951e720",
   "metadata": {},
   "outputs": [
    {
     "data": {
      "text/plain": [
       "3.5"
      ]
     },
     "execution_count": 29,
     "metadata": {},
     "output_type": "execute_result"
    }
   ],
   "source": [
    "expected_value"
   ]
  },
  {
   "cell_type": "code",
   "execution_count": 36,
   "id": "e8358998",
   "metadata": {},
   "outputs": [
    {
     "data": {
      "text/plain": [
       "1.6666666666666667"
      ]
     },
     "execution_count": 36,
     "metadata": {},
     "output_type": "execute_result"
    }
   ],
   "source": [
    "np.random.randint(1, 7, size=3).mean()"
   ]
  },
  {
   "cell_type": "code",
   "execution_count": 35,
   "id": "51d5846c",
   "metadata": {},
   "outputs": [
    {
     "data": {
      "text/plain": [
       "4.2"
      ]
     },
     "execution_count": 35,
     "metadata": {},
     "output_type": "execute_result"
    }
   ],
   "source": [
    "np.random.randint(1, 7, size=5).mean()"
   ]
  },
  {
   "cell_type": "code",
   "execution_count": 25,
   "id": "0181d8ae",
   "metadata": {},
   "outputs": [
    {
     "data": {
      "text/plain": [
       "3.6"
      ]
     },
     "execution_count": 25,
     "metadata": {},
     "output_type": "execute_result"
    }
   ],
   "source": [
    "np.random.randint(1, 7, size=20).mean()"
   ]
  },
  {
   "cell_type": "code",
   "execution_count": 26,
   "id": "ddf098b4",
   "metadata": {},
   "outputs": [
    {
     "data": {
      "text/plain": [
       "3.49"
      ]
     },
     "execution_count": 26,
     "metadata": {},
     "output_type": "execute_result"
    }
   ],
   "source": [
    "np.random.randint(1, 7, size=100).mean()"
   ]
  },
  {
   "cell_type": "code",
   "execution_count": 27,
   "id": "cd19ece0",
   "metadata": {},
   "outputs": [
    {
     "data": {
      "text/plain": [
       "3.513"
      ]
     },
     "execution_count": 27,
     "metadata": {},
     "output_type": "execute_result"
    }
   ],
   "source": [
    "np.random.randint(1, 7, size=1000).mean()"
   ]
  },
  {
   "cell_type": "code",
   "execution_count": 28,
   "id": "3c8b214c",
   "metadata": {},
   "outputs": [
    {
     "data": {
      "text/plain": [
       "3.4997"
      ]
     },
     "execution_count": 28,
     "metadata": {},
     "output_type": "execute_result"
    }
   ],
   "source": [
    "np.random.randint(1, 7, size=10000).mean()"
   ]
  },
  {
   "cell_type": "markdown",
   "id": "00f521e1",
   "metadata": {},
   "source": [
    "Coin flip:"
   ]
  },
  {
   "cell_type": "code",
   "execution_count": 51,
   "id": "89b6e26e",
   "metadata": {},
   "outputs": [],
   "source": [
    "import random\n",
    "\n",
    "coin = {'cara': 0, 'coroa': 0}\n",
    "\n",
    "for _ in range(0, 1000):\n",
    "    value = random.randint(0, 1)\n",
    "    \n",
    "    if value == 1:\n",
    "        coin['coroa'] += 1\n",
    "    else:\n",
    "        coin['cara'] += 1"
   ]
  },
  {
   "cell_type": "code",
   "execution_count": 64,
   "id": "03a76bfb",
   "metadata": {},
   "outputs": [
    {
     "data": {
      "text/plain": [
       "<BarContainer object of 2 artists>"
      ]
     },
     "execution_count": 64,
     "metadata": {},
     "output_type": "execute_result"
    },
    {
     "data": {
      "image/png": "[encoded data removed]",
      "text/plain": [
       "<Figure size 432x288 with 1 Axes>"
      ]
     },
     "metadata": {
      "needs_background": "light"
     },
     "output_type": "display_data"
    }
   ],
   "source": [
    "plt.bar(list(coin.keys()), list(coin.values()))"
   ]
  }
 ],
 "metadata": {
  "kernelspec": {
   "display_name": "Python 3 (ipykernel)",
   "language": "python",
   "name": "python3"
  },
  "language_info": {
   "codemirror_mode": {
    "name": "ipython",
    "version": 3
   },
   "file_extension": ".py",
   "mimetype": "text/x-python",
   "name": "python",
   "nbconvert_exporter": "python",
   "pygments_lexer": "ipython3",
   "version": "3.9.7"
  }
 },
 "nbformat": 4,
 "nbformat_minor": 5
}
